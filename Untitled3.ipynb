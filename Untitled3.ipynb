{
  "nbformat": 4,
  "nbformat_minor": 0,
  "metadata": {
    "colab": {
      "provenance": [],
      "authorship_tag": "ABX9TyNJtdoAtILrYuT4u2LWxm3H",
      "include_colab_link": true
    },
    "kernelspec": {
      "name": "python3",
      "display_name": "Python 3"
    },
    "language_info": {
      "name": "python"
    }
  },
  "cells": [
    {
      "cell_type": "markdown",
      "metadata": {
        "id": "view-in-github",
        "colab_type": "text"
      },
      "source": [
        "<a href=\"https://colab.research.google.com/github/pushpendra0907/TaskByObjectWays/blob/main/Untitled3.ipynb\" target=\"_parent\"><img src=\"https://colab.research.google.com/assets/colab-badge.svg\" alt=\"Open In Colab\"/></a>"
      ]
    },
    {
      "cell_type": "code",
      "execution_count": null,
      "metadata": {
        "colab": {
          "base_uri": "https://localhost:8080/"
        },
        "id": "3ucsdUSTmCcW",
        "outputId": "6908bcaa-e4a7-48cf-da77-cef049af7ebf"
      },
      "outputs": [
        {
          "output_type": "stream",
          "name": "stdout",
          "text": [
            "agrud\n"
          ]
        }
      ],
      "source": [
        "# reversed string by using reversed keyword\n",
        "s=\"durga\"\n",
        "r=reversed(s)\n",
        "output= ''.join(r)\n",
        "print(output)"
      ]
    },
    {
      "cell_type": "code",
      "source": [
        "# By using slicing\n",
        "s=\"Durga\"\n",
        "print(s[::-1])"
      ],
      "metadata": {
        "colab": {
          "base_uri": "https://localhost:8080/"
        },
        "id": "fSobKxAVmhA6",
        "outputId": "3ccdd05f-cc3b-43b7-c695-56fc72f0a6c5"
      },
      "execution_count": null,
      "outputs": [
        {
          "output_type": "stream",
          "name": "stdout",
          "text": [
            "agruD\n"
          ]
        }
      ]
    },
    {
      "cell_type": "code",
      "source": [
        "s=\"durga\"\n",
        "print(s[-4:])"
      ],
      "metadata": {
        "colab": {
          "base_uri": "https://localhost:8080/"
        },
        "id": "9co1ivgVmt45",
        "outputId": "5d453885-c85f-4ef1-9a04-74cacb3dcf9a"
      },
      "execution_count": null,
      "outputs": [
        {
          "output_type": "stream",
          "name": "stdout",
          "text": [
            "urga\n"
          ]
        }
      ]
    },
    {
      "cell_type": "code",
      "source": [
        "#by using while loop\n",
        "s=\"durga\"\n",
        "output=''\n",
        "i=len(s)-1\n",
        "while i>=0:\n",
        "  output=output+s[i]\n",
        "  i=i-1\n",
        "print(output)  "
      ],
      "metadata": {
        "colab": {
          "base_uri": "https://localhost:8080/"
        },
        "id": "4_n7bf2qnXLW",
        "outputId": "c91f0dae-6fc0-4bf9-d2d9-f1cb5a493d6d"
      },
      "execution_count": null,
      "outputs": [
        {
          "output_type": "stream",
          "name": "stdout",
          "text": [
            "agrud\n"
          ]
        }
      ]
    },
    {
      "cell_type": "code",
      "source": [
        "#write a program to reversed order of word\n",
        "\n",
        "s=input(\"Enter Any String:  \")\n",
        "l=s.split()\n",
        "l1=l[::-1]\n",
        "print(l1)"
      ],
      "metadata": {
        "colab": {
          "base_uri": "https://localhost:8080/"
        },
        "id": "yTfjHIGFoO3D",
        "outputId": "a2e42150-684b-4c50-91ab-34a1040cd40e"
      },
      "execution_count": null,
      "outputs": [
        {
          "output_type": "stream",
          "name": "stdout",
          "text": [
            "Enter Any String:  hello duniya india today\n",
            "['today', 'india', 'duniya', 'hello']\n"
          ]
        }
      ]
    },
    {
      "cell_type": "markdown",
      "source": [
        "# New Section"
      ],
      "metadata": {
        "id": "5NY2y4Fg0LVa"
      }
    },
    {
      "cell_type": "code",
      "source": [
        "#write a program to reversed order of word\n",
        "\n",
        "s=input(\"Enter Any String:  \")\n",
        "l=s.split()\n",
        "l1=l[::-1]\n",
        "output= ' '.join(l1)\n",
        "print(output)\n",
        "print(ord('a'))"
      ],
      "metadata": {
        "colab": {
          "base_uri": "https://localhost:8080/"
        },
        "id": "mX1zWyDupoTd",
        "outputId": "6067f36d-3aac-4bf6-f598-0868c484d0ca"
      },
      "execution_count": null,
      "outputs": [
        {
          "output_type": "stream",
          "name": "stdout",
          "text": [
            "Enter Any String:  hi kese ho\n",
            "ho kese hi\n",
            "97\n"
          ]
        }
      ]
    },
    {
      "cell_type": "code",
      "source": [
        "d={\"x\":1,\"y\":2}\n",
        "for k in d:\n",
        "  print(d(x))"
      ],
      "metadata": {
        "colab": {
          "base_uri": "https://localhost:8080/",
          "height": 200
        },
        "id": "9wbgEpU-zm3Q",
        "outputId": "5fad1b77-30f1-44ce-d837-ed5fe964a24d"
      },
      "execution_count": null,
      "outputs": [
        {
          "output_type": "error",
          "ename": "NameError",
          "evalue": "ignored",
          "traceback": [
            "\u001b[0;31m---------------------------------------------------------------------------\u001b[0m",
            "\u001b[0;31mNameError\u001b[0m                                 Traceback (most recent call last)",
            "\u001b[0;32m<ipython-input-1-c0b1395a44eb>\u001b[0m in \u001b[0;36m<module>\u001b[0;34m\u001b[0m\n\u001b[1;32m      1\u001b[0m \u001b[0md\u001b[0m\u001b[0;34m=\u001b[0m\u001b[0;34m{\u001b[0m\u001b[0;34m\"x\"\u001b[0m\u001b[0;34m:\u001b[0m\u001b[0;36m1\u001b[0m\u001b[0;34m,\u001b[0m\u001b[0;34m\"y\"\u001b[0m\u001b[0;34m:\u001b[0m\u001b[0;36m2\u001b[0m\u001b[0;34m}\u001b[0m\u001b[0;34m\u001b[0m\u001b[0;34m\u001b[0m\u001b[0m\n\u001b[1;32m      2\u001b[0m \u001b[0;32mfor\u001b[0m \u001b[0mk\u001b[0m \u001b[0;32min\u001b[0m \u001b[0md\u001b[0m\u001b[0;34m:\u001b[0m\u001b[0;34m\u001b[0m\u001b[0;34m\u001b[0m\u001b[0m\n\u001b[0;32m----> 3\u001b[0;31m   \u001b[0mprint\u001b[0m\u001b[0;34m(\u001b[0m\u001b[0md\u001b[0m\u001b[0;34m(\u001b[0m\u001b[0mx\u001b[0m\u001b[0;34m)\u001b[0m\u001b[0;34m)\u001b[0m\u001b[0;34m\u001b[0m\u001b[0;34m\u001b[0m\u001b[0m\n\u001b[0m",
            "\u001b[0;31mNameError\u001b[0m: name 'x' is not defined"
          ]
        }
      ]
    },
    {
      "cell_type": "code",
      "source": [
        "str= \"hello\"\n",
        "print(list(str))"
      ],
      "metadata": {
        "colab": {
          "base_uri": "https://localhost:8080/"
        },
        "id": "AGgMqxwowFgq",
        "outputId": "2c0ed7b7-04f9-4ebd-baf8-278adba1588b"
      },
      "execution_count": null,
      "outputs": [
        {
          "output_type": "stream",
          "name": "stdout",
          "text": [
            "['h', 'e', 'l', 'l', 'o']\n"
          ]
        }
      ]
    },
    {
      "cell_type": "code",
      "source": [
        "squre={i:i**2 for i in range(10)}\n",
        "squre"
      ],
      "metadata": {
        "colab": {
          "base_uri": "https://localhost:8080/"
        },
        "id": "pf0kr1_bIM8c",
        "outputId": "9aad59a1-48fd-4dc7-ffd9-4d7b992f05a4"
      },
      "execution_count": null,
      "outputs": [
        {
          "output_type": "execute_result",
          "data": {
            "text/plain": [
              "{0: 0, 1: 1, 2: 4, 3: 9, 4: 16, 5: 25, 6: 36, 7: 49, 8: 64, 9: 81}"
            ]
          },
          "metadata": {},
          "execution_count": 3
        }
      ]
    },
    {
      "cell_type": "code",
      "source": [
        "list1=[1,2,3,4,5]\n",
        "tup=(5,6,7,8,9)\n",
        "op = list(map(lambda x,y:x*y,list1,tup))\n",
        "print(op)\n"
      ],
      "metadata": {
        "colab": {
          "base_uri": "https://localhost:8080/"
        },
        "id": "XnyUACQK1cSS",
        "outputId": "538b68e4-1b8e-44cd-d1d4-20ec2b1ed394"
      },
      "execution_count": null,
      "outputs": [
        {
          "output_type": "stream",
          "name": "stdout",
          "text": [
            "[5, 12, 21, 32, 45]\n"
          ]
        }
      ]
    },
    {
      "cell_type": "code",
      "source": [
        "str=\"asdsa\"\n",
        "\n",
        "if str == str[::-1]:\n",
        "   print(\"palindrom\")\n",
        "\n",
        "else:\n",
        "  print(\"not palindrom\")"
      ],
      "metadata": {
        "colab": {
          "base_uri": "https://localhost:8080/"
        },
        "id": "i1ziv6i9rz5a",
        "outputId": "2ce212fd-a912-4f02-d4c9-4e5e88f06cb3"
      },
      "execution_count": null,
      "outputs": [
        {
          "output_type": "stream",
          "name": "stdout",
          "text": [
            "palindrom\n"
          ]
        }
      ]
    },
    {
      "cell_type": "code",
      "source": [
        "df df"
      ],
      "metadata": {
        "id": "3SHAW3ahsP7H"
      },
      "execution_count": null,
      "outputs": []
    },
    {
      "cell_type": "code",
      "source": [
        "n=eval(input(\"please enter the number\"))\n",
        "s=str(n)\n",
        "if s==s[::-1]:\n",
        "  print(\"the number is plandrome\")\n",
        "else:\n",
        "  print(\"the number is not palindrome\")  "
      ],
      "metadata": {
        "colab": {
          "base_uri": "https://localhost:8080/"
        },
        "id": "nqELFMZUSH7X",
        "outputId": "5cc5538e-af9f-476c-f9ed-dd74573f7668"
      },
      "execution_count": null,
      "outputs": [
        {
          "output_type": "stream",
          "name": "stdout",
          "text": [
            "please enter the number32121\n",
            "the number is not palindrome\n"
          ]
        }
      ]
    },
    {
      "cell_type": "code",
      "source": [
        "def is_palindrome(n):\n",
        "    # Convert the number to a string\n",
        "    s = str(n)\n",
        "    \n",
        "    # Check if the string is equal to its reverse\n",
        "    return s == s[::-1]\n",
        "\n",
        "n = 12321\n",
        "if is_palindrome(n):\n",
        "    print(f\"{n} is a palindrome\")\n",
        "else:\n",
        "    print(f\"{n} is not a palindrome\")"
      ],
      "metadata": {
        "colab": {
          "base_uri": "https://localhost:8080/"
        },
        "id": "ykHlFqDsT-aO",
        "outputId": "b9a7c7a1-b52c-4128-8103-56a46358a7ed"
      },
      "execution_count": null,
      "outputs": [
        {
          "output_type": "stream",
          "name": "stdout",
          "text": [
            "12321 is a palindrome\n"
          ]
        }
      ]
    },
    {
      "cell_type": "code",
      "source": [
        "n=12321\n",
        "\n",
        "str1=str(n)\n",
        "if str1 == str1[::-1]:\n",
        "  print(\"palindrome\")\n",
        "else:\n",
        "  (\"not p\")  \n"
      ],
      "metadata": {
        "id": "4--YoMywUHFF"
      },
      "execution_count": null,
      "outputs": []
    },
    {
      "cell_type": "code",
      "source": [
        "\n",
        "str1=\"ilttle\"\n",
        "list1={}\n",
        "for i in str1:\n",
        "  if i in list1:\n",
        "    list1[i]+=1\n",
        "  else:\n",
        "    list1[i]= 1\n",
        "print(str(list1))     \n",
        "  "
      ],
      "metadata": {
        "colab": {
          "base_uri": "https://localhost:8080/"
        },
        "id": "DOqjUf49a3IP",
        "outputId": "b196a241-f76b-4e95-a40d-3715f2ac6d44"
      },
      "execution_count": null,
      "outputs": [
        {
          "output_type": "stream",
          "name": "stdout",
          "text": [
            "{'i': 1, 'l': 2, 't': 2, 'e': 1}\n"
          ]
        }
      ]
    },
    {
      "cell_type": "code",
      "source": [
        "list1=[2,3,4,5,6,7]\n",
        "count=0\n",
        "list2=[]\n",
        "for i in list1:\n",
        "  list2.append(i)\n",
        "  for j in list2:\n",
        "\n",
        "    if list2[0]+list1[-1]==9:\n",
        "      count=count+\n",
        "    else:\n",
        "       print(\"no\")    \n",
        "print(count)"
      ],
      "metadata": {
        "colab": {
          "base_uri": "https://localhost:8080/"
        },
        "id": "Z7lMrbExn-qB",
        "outputId": "f5be4760-f06f-49ab-a03d-0fc654812464"
      },
      "execution_count": null,
      "outputs": [
        {
          "output_type": "stream",
          "name": "stdout",
          "text": [
            "1\n"
          ]
        }
      ]
    },
    {
      "cell_type": "code",
      "source": [
        "list1=[2,3,4,5,6,7]\n",
        "count=0\n",
        "list2=[]\n",
        "for i in list1:\n",
        "  list2.append(i)\n",
        "  \n",
        "print(list2)\n",
        "\n",
        "print(list2[-1])  "
      ],
      "metadata": {
        "colab": {
          "base_uri": "https://localhost:8080/",
          "height": 235
        },
        "id": "_5M8H0XeQdIm",
        "outputId": "337a3d11-53fb-48bb-da3b-49b46cfbbf50"
      },
      "execution_count": null,
      "outputs": [
        {
          "output_type": "error",
          "ename": "IndexError",
          "evalue": "ignored",
          "traceback": [
            "\u001b[0;31m---------------------------------------------------------------------------\u001b[0m",
            "\u001b[0;31mIndexError\u001b[0m                                Traceback (most recent call last)",
            "\u001b[0;32m<ipython-input-15-ded6b064c0fe>\u001b[0m in \u001b[0;36m<cell line: 4>\u001b[0;34m()\u001b[0m\n\u001b[1;32m      4\u001b[0m \u001b[0;32mfor\u001b[0m \u001b[0mi\u001b[0m \u001b[0;32min\u001b[0m \u001b[0mlist1\u001b[0m\u001b[0;34m:\u001b[0m\u001b[0;34m\u001b[0m\u001b[0;34m\u001b[0m\u001b[0m\n\u001b[1;32m      5\u001b[0m   \u001b[0mlist2\u001b[0m\u001b[0;34m.\u001b[0m\u001b[0mappend\u001b[0m\u001b[0;34m(\u001b[0m\u001b[0mi\u001b[0m\u001b[0;34m)\u001b[0m\u001b[0;34m\u001b[0m\u001b[0;34m\u001b[0m\u001b[0m\n\u001b[0;32m----> 6\u001b[0;31m   \u001b[0mprint\u001b[0m\u001b[0;34m(\u001b[0m\u001b[0mlist2\u001b[0m\u001b[0;34m[\u001b[0m\u001b[0mi\u001b[0m\u001b[0;34m]\u001b[0m\u001b[0;34m)\u001b[0m\u001b[0;34m\u001b[0m\u001b[0;34m\u001b[0m\u001b[0m\n\u001b[0m\u001b[1;32m      7\u001b[0m \u001b[0mprint\u001b[0m\u001b[0;34m(\u001b[0m\u001b[0mlist2\u001b[0m\u001b[0;34m)\u001b[0m\u001b[0;34m\u001b[0m\u001b[0;34m\u001b[0m\u001b[0m\n\u001b[1;32m      8\u001b[0m \u001b[0;34m\u001b[0m\u001b[0m\n",
            "\u001b[0;31mIndexError\u001b[0m: list index out of range"
          ]
        }
      ]
    },
    {
      "cell_type": "code",
      "source": [
        "strings = ['apple', 'banana', 'orange', 'grape']\n",
        "\n",
        "joined_string = ','.join(strings)\n",
        "\n",
        "print(joined_string)"
      ],
      "metadata": {
        "colab": {
          "base_uri": "https://localhost:8080/"
        },
        "id": "G2Py4xJqcUNk",
        "outputId": "7aa03757-6389-456c-fb51-dd2aac5b8d6f"
      },
      "execution_count": null,
      "outputs": [
        {
          "output_type": "stream",
          "name": "stdout",
          "text": [
            "apple,banana,orange,grape\n"
          ]
        }
      ]
    },
    {
      "cell_type": "code",
      "source": [
        "d={100:'a',200:'b',300:'c'}\n",
        "print(d)\n",
        "d[100]='durga'\n",
        "print(d)\n"
      ],
      "metadata": {
        "colab": {
          "base_uri": "https://localhost:8080/"
        },
        "id": "vu6jG-__YZq5",
        "outputId": "235e06bb-5035-46ae-d241-756818de77e8"
      },
      "execution_count": null,
      "outputs": [
        {
          "output_type": "stream",
          "name": "stdout",
          "text": [
            "{100: 'a', 200: 'b', 300: 'c'}\n",
            "{100: 'durga', 200: 'b', 300: 'c'}\n"
          ]
        }
      ]
    },
    {
      "cell_type": "code",
      "source": [],
      "metadata": {
        "id": "cHnrorbR7Jsm"
      },
      "execution_count": null,
      "outputs": []
    },
    {
      "cell_type": "code",
      "source": [
        "lst=[[10,20,30],[40,0,50],[60,70,80]]\n",
        "ls=[]\n",
        "for x in lst:\n",
        "  for y in x:\n",
        "    ls.append(y)\n",
        "print(ls)   "
      ],
      "metadata": {
        "colab": {
          "base_uri": "https://localhost:8080/"
        },
        "id": "K63aCT2SXNLX",
        "outputId": "e2784960-d35d-41e8-b7bc-9641114a3ecc"
      },
      "execution_count": null,
      "outputs": [
        {
          "output_type": "stream",
          "name": "stdout",
          "text": [
            "[10, 20, 30, 40, 0, 50, 60, 70, 80]\n"
          ]
        }
      ]
    },
    {
      "cell_type": "code",
      "source": [
        "s= \"helloPushpendra\"\n",
        "print(s[0:-1:2])"
      ],
      "metadata": {
        "colab": {
          "base_uri": "https://localhost:8080/"
        },
        "id": "uT2_VpNXqpOB",
        "outputId": "9eceeef4-7538-4991-fce6-564f84ef38fd"
      },
      "execution_count": 4,
      "outputs": [
        {
          "output_type": "stream",
          "name": "stdout",
          "text": [
            "hlouhed\n"
          ]
        }
      ]
    },
    {
      "cell_type": "code",
      "source": [
        "s=\"B4A3S2C1\"\n",
        "print(sorted(s))\n",
        "l=''.join(sorted(s))\n",
        "print(l)"
      ],
      "metadata": {
        "colab": {
          "base_uri": "https://localhost:8080/"
        },
        "id": "mCBD8UYN9MLq",
        "outputId": "6317d370-acd0-48ea-d301-30ab071b652b"
      },
      "execution_count": 2,
      "outputs": [
        {
          "output_type": "stream",
          "name": "stdout",
          "text": [
            "['1', '2', '3', '4', 'A', 'B', 'C', 'S']\n",
            "1234ABCS\n"
          ]
        }
      ]
    },
    {
      "cell_type": "code",
      "source": [
        "my_list=[10,20,30,40,50]\n",
        "largest_number= my_list[0]\n",
        "print(max(my_list))\n",
        "for num in my_list:\n",
        "  if num >largest_number:\n",
        "    largest_number=num\n",
        "print(largest_number)    "
      ],
      "metadata": {
        "colab": {
          "base_uri": "https://localhost:8080/"
        },
        "id": "MtphlSqz7ckK",
        "outputId": "0104751a-441c-4f4e-fc2d-f2ed76a5372f"
      },
      "execution_count": null,
      "outputs": [
        {
          "output_type": "stream",
          "name": "stdout",
          "text": [
            "50\n",
            "50\n"
          ]
        }
      ]
    },
    {
      "cell_type": "code",
      "source": [
        "numbers = [1, 2, 3, 4, 5]\n",
        "\n",
        "product = 1\n",
        "\n",
        "for num in numbers:\n",
        "    product *= num\n",
        "\n",
        "print(product)"
      ],
      "metadata": {
        "colab": {
          "base_uri": "https://localhost:8080/"
        },
        "id": "7kvAJe51vATc",
        "outputId": "fe30896c-41c6-412f-fd48-b19fcd0dc4ad"
      },
      "execution_count": null,
      "outputs": [
        {
          "output_type": "stream",
          "name": "stdout",
          "text": [
            "120\n"
          ]
        }
      ]
    },
    {
      "cell_type": "code",
      "source": [
        "lst =['ketrina','kareena','shradha','rashmika','akanksha','anupama']\n",
        "\n",
        "for s in lst:\n",
        "  if s[0]=='r':\n",
        "    print(s)\n",
        "#################   or  ##############\n",
        "s= list(filter(lambda name:name[0]=='k',lst))\n",
        "print(s)"
      ],
      "metadata": {
        "colab": {
          "base_uri": "https://localhost:8080/"
        },
        "id": "G5O2UMDFcMaV",
        "outputId": "eb7837ce-552e-4437-e78c-0e64a428beba"
      },
      "execution_count": null,
      "outputs": [
        {
          "output_type": "stream",
          "name": "stdout",
          "text": [
            "rashmika\n",
            "['ketrina', 'kareena']\n"
          ]
        }
      ]
    },
    {
      "cell_type": "code",
      "source": [
        "keys = ['name', 'age', 'city']\n",
        "values = ['John', 25, 'New York']\n",
        "\n",
        "dictionary = dict(zip(keys, values))\n",
        "\n",
        "print(dictionary)"
      ],
      "metadata": {
        "colab": {
          "base_uri": "https://localhost:8080/"
        },
        "id": "hqxUc8YEwwd8",
        "outputId": "360bcaf7-6cd3-4ae9-9ad1-6f220d27b598"
      },
      "execution_count": null,
      "outputs": [
        {
          "output_type": "stream",
          "name": "stdout",
          "text": [
            "{'name': 'John', 'age': 25, 'city': 'New York'}\n"
          ]
        }
      ]
    },
    {
      "cell_type": "code",
      "source": [
        "sentence = \"This is a sentence. This sentence contains many words.\"\n",
        "word_count = {}\n",
        "for word in sentence.split():\n",
        "    if word in word_count:\n",
        "        word_count[word] += 1\n",
        "    else:\n",
        "        word_count[word] = 1\n",
        "print(\"Word count:\", word_count)"
      ],
      "metadata": {
        "colab": {
          "base_uri": "https://localhost:8080/"
        },
        "id": "8XIcBvDw3TUz",
        "outputId": "bcf7550d-06c1-454f-c5d1-d5fde5b52e71"
      },
      "execution_count": null,
      "outputs": [
        {
          "output_type": "stream",
          "name": "stdout",
          "text": [
            "Word count: {'This': 2, 'is': 1, 'a': 1, 'sentence.': 1, 'sentence': 1, 'contains': 1, 'many': 1, 'words.': 1}\n"
          ]
        }
      ]
    },
    {
      "cell_type": "code",
      "source": [
        "list1  = ['USA', 'RUSSIA', 'INDIA', 'FRANCE']\n",
        "#{'USA':3, 'RUSSIA',:6 'INDIA',:5 'FRANCE':5}\n",
        "dec ={}\n",
        "\n",
        "dec[list1[0]]= 3\n",
        "dec[list1[1]]= 6\n",
        "dec[list1[2]]= 5\n",
        "dec[list1[3]]= 5\n",
        "print(dec)\n"
      ],
      "metadata": {
        "colab": {
          "base_uri": "https://localhost:8080/"
        },
        "id": "sqx42ymRHQ2O",
        "outputId": "bf7b3ce0-c61d-4bfa-c31b-d394391c60a2"
      },
      "execution_count": null,
      "outputs": [
        {
          "output_type": "stream",
          "name": "stdout",
          "text": [
            "{'USA': 3, 'RUSSIA': 6, 'INDIA': 5, 'FRANCE': 5}\n"
          ]
        }
      ]
    },
    {
      "cell_type": "code",
      "source": [
        "my_dict = {'name': 'John', 'age': 30, 'city': 'New York'}\n",
        "\n",
        "my_dict[\"Occupation\"]=\"programmer\"\n",
        "\n",
        "for i,j in my_dict.items():\n",
        "  print(i,j)"
      ],
      "metadata": {
        "colab": {
          "base_uri": "https://localhost:8080/"
        },
        "id": "U3aengdNN4K_",
        "outputId": "26fb1e3a-bebe-45f2-cd2d-a1e0e54ed19e"
      },
      "execution_count": null,
      "outputs": [
        {
          "output_type": "stream",
          "name": "stdout",
          "text": [
            "name John\n",
            "age 30\n",
            "city New York\n",
            "Occupation programmer\n"
          ]
        }
      ]
    },
    {
      "cell_type": "code",
      "source": [
        "#find the nubmer is palindrome\n",
        "number= int(input(\"Enter the number\"))\n",
        "\n",
        "temp=number\n",
        "\n",
        "reverse=0\n",
        "while(number>0):\n",
        "  digit= number%10\n",
        "  reverse=reverse*10+digit\n",
        "  number=number//10\n",
        "if temp==reverse:\n",
        "  print(\"the nuber is palindrome\")\n",
        "else:\n",
        "  print(\"not a palindrome\")    \n",
        "\n"
      ],
      "metadata": {
        "colab": {
          "base_uri": "https://localhost:8080/"
        },
        "id": "3OBhaOuAvXFM",
        "outputId": "874614ef-d85f-483d-e6ad-a5563654ea53"
      },
      "execution_count": null,
      "outputs": [
        {
          "output_type": "stream",
          "name": "stdout",
          "text": [
            "Enter the number12345\n",
            "not a palindrome\n"
          ]
        }
      ]
    },
    {
      "cell_type": "code",
      "source": [
        "for f in range(0,20):\n",
        "  if f%2==0:\n",
        "    print(f)    \n",
        "    \n",
        "\n",
        "    \n",
        "\n"
      ],
      "metadata": {
        "colab": {
          "base_uri": "https://localhost:8080/"
        },
        "id": "sXiSpcv5QcBR",
        "outputId": "1a62a45b-8967-4309-fc63-ef57092294c9"
      },
      "execution_count": null,
      "outputs": [
        {
          "output_type": "stream",
          "name": "stdout",
          "text": [
            "0\n",
            "2\n",
            "4\n",
            "6\n",
            "8\n",
            "10\n",
            "12\n",
            "14\n",
            "16\n",
            "18\n"
          ]
        }
      ]
    },
    {
      "cell_type": "code",
      "source": [
        "numns=[1,2,3,4,5,6,7,8,9]\n",
        "\n",
        "even_num=list(map(lambda x:x*2,numns))\n",
        "print(even_num)"
      ],
      "metadata": {
        "colab": {
          "base_uri": "https://localhost:8080/"
        },
        "id": "pgeGW28AT5G-",
        "outputId": "5412c660-35de-4393-9036-5910b4db0941"
      },
      "execution_count": null,
      "outputs": [
        {
          "output_type": "stream",
          "name": "stdout",
          "text": [
            "[2, 4, 6, 8, 10, 12, 14, 16, 18]\n"
          ]
        }
      ]
    },
    {
      "cell_type": "code",
      "source": [
        "lst=[\n",
        "  {\"name\": \"Tom\", \"age\": 10},\n",
        "  {\"name\": \"Mark\", \"age\": 5},\n",
        "  {\"name\": \"Pam\", \"age\": 7}\n",
        "]\n",
        "\n",
        "print(sorted(lst,key=lambda i:i['age']))"
      ],
      "metadata": {
        "colab": {
          "base_uri": "https://localhost:8080/"
        },
        "id": "PPcynMi1xxXx",
        "outputId": "934663f3-d632-4663-f031-28919f246f02"
      },
      "execution_count": null,
      "outputs": [
        {
          "output_type": "stream",
          "name": "stdout",
          "text": [
            "[{'name': 'Mark', 'age': 5}, {'name': 'Pam', 'age': 7}, {'name': 'Tom', 'age': 10}]\n"
          ]
        }
      ]
    },
    {
      "cell_type": "code",
      "source": [
        "ls=[2,3,4,5,6,7]\n",
        "count=0\n",
        "start=0\n",
        "end= len(ls)-1\n",
        "while start<=end:\n",
        "  print(ls[start]+ls[end])\n",
        "  start+=1\n",
        "  end-=1\n",
        "  count=count+1\n",
        "print(count)  \n"
      ],
      "metadata": {
        "id": "X2lVBzb03Fk4",
        "colab": {
          "base_uri": "https://localhost:8080/"
        },
        "outputId": "7be4a8e5-c2ec-49a9-8de2-9b26d38e3fec"
      },
      "execution_count": null,
      "outputs": [
        {
          "output_type": "stream",
          "name": "stdout",
          "text": [
            "9\n",
            "9\n",
            "9\n",
            "3\n"
          ]
        }
      ]
    },
    {
      "cell_type": "code",
      "source": [
        "l=[1,2,3,4,5,6,7,8]\n",
        "\n",
        "def squreit(n):\n",
        "  return n*n\n",
        "l1=list(map(squreit,l))\n",
        "print(l1)"
      ],
      "metadata": {
        "colab": {
          "base_uri": "https://localhost:8080/"
        },
        "id": "9ZGtrvODhcnr",
        "outputId": "607e3706-9598-49f7-c472-b862346633be"
      },
      "execution_count": null,
      "outputs": [
        {
          "output_type": "stream",
          "name": "stdout",
          "text": [
            "[1, 4, 9, 16, 25, 36, 49, 64]\n"
          ]
        }
      ]
    },
    {
      "cell_type": "code",
      "source": [
        "l=[1,2,3,4,5,6,7,8]\n",
        "l1=[1,20,3,41,5,6,7,8]\n",
        "def multi(x,y):\n",
        "  return x*y\n",
        "l2= list(map(multi,l,l1))\n",
        "############## or #################\n",
        "l3= list(map(lambda x,y : x*y,l,l1))\n",
        "print(l3) \n",
        "print(l2) "
      ],
      "metadata": {
        "colab": {
          "base_uri": "https://localhost:8080/"
        },
        "id": "RwIlrCOUk8qp",
        "outputId": "6e0db18a-9ad6-4562-d513-e457aaa02ec3"
      },
      "execution_count": null,
      "outputs": [
        {
          "output_type": "stream",
          "name": "stdout",
          "text": [
            "[1, 40, 9, 164, 25, 36, 49, 64]\n",
            "[1, 40, 9, 164, 25, 36, 49, 64]\n"
          ]
        }
      ]
    },
    {
      "cell_type": "code",
      "source": [
        "lst= eval(input(\"Enter elements\"))\n",
        "print(lst)"
      ],
      "metadata": {
        "colab": {
          "base_uri": "https://localhost:8080/"
        },
        "id": "qmVm09YD0Q6X",
        "outputId": "40ca2c48-8c38-4a7a-8fd3-e6675803bdb2"
      },
      "execution_count": null,
      "outputs": [
        {
          "output_type": "stream",
          "name": "stdout",
          "text": [
            "Enter elements[10,20,20,30,40]\n",
            "[10, 20, 20, 30, 40]\n"
          ]
        }
      ]
    },
    {
      "cell_type": "code",
      "source": [
        "def outer():\n",
        "  print(\"hello outer\")\n",
        "  def inner():\n",
        "    print(\"hello inner\")\n",
        "  inner()  \n",
        "outer() \n",
        "outer()   "
      ],
      "metadata": {
        "colab": {
          "base_uri": "https://localhost:8080/"
        },
        "id": "dSS5bondqII5",
        "outputId": "d1ccca4f-0305-42bb-8c68-4521954e7482"
      },
      "execution_count": null,
      "outputs": [
        {
          "output_type": "stream",
          "name": "stdout",
          "text": [
            "hello outer\n",
            "hello inner\n",
            "hello outer\n",
            "hello inner\n"
          ]
        }
      ]
    },
    {
      "cell_type": "code",
      "source": [
        "s = \"anagram\"\n",
        "t = \"nagaram\"\n",
        "\n",
        "if sorted(s) == sorted(t):\n",
        "  if len(s) == len(t):\n",
        "    print(True)\n",
        "else:\n",
        "    print(False)"
      ],
      "metadata": {
        "colab": {
          "base_uri": "https://localhost:8080/"
        },
        "id": "d1uye9joRiT6",
        "outputId": "63500e8d-963c-43ed-8bb4-67931ffebd22"
      },
      "execution_count": null,
      "outputs": [
        {
          "output_type": "stream",
          "name": "stdout",
          "text": [
            "True\n"
          ]
        }
      ]
    }
  ]
}